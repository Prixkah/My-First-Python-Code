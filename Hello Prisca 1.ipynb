{
 "cells": [
  {
   "cell_type": "code",
   "execution_count": 1,
   "id": "c2c6e223",
   "metadata": {},
   "outputs": [
    {
     "name": "stdout",
     "output_type": "stream",
     "text": [
      "Hell0 Prisca\n"
     ]
    }
   ],
   "source": [
    "print('Hell0 Prisca')"
   ]
  },
  {
   "cell_type": "code",
   "execution_count": 2,
   "id": "420c044d",
   "metadata": {},
   "outputs": [
    {
     "name": "stdout",
     "output_type": "stream",
     "text": [
      "Hello jPrisca 2\n"
     ]
    }
   ],
   "source": [
    "print('Hello jPrisca 2')"
   ]
  },
  {
   "cell_type": "code",
   "execution_count": 4,
   "id": "66d546d4",
   "metadata": {},
   "outputs": [
    {
     "name": "stdout",
     "output_type": "stream",
     "text": [
      "Hello \n",
      "Prisca\n"
     ]
    }
   ],
   "source": [
    "print('Hello \\nPrisca')"
   ]
  },
  {
   "cell_type": "code",
   "execution_count": null,
   "id": "86fbc693",
   "metadata": {},
   "outputs": [],
   "source": []
  }
 ],
 "metadata": {
  "kernelspec": {
   "display_name": "Python 3 (ipykernel)",
   "language": "python",
   "name": "python3"
  },
  "language_info": {
   "codemirror_mode": {
    "name": "ipython",
    "version": 3
   },
   "file_extension": ".py",
   "mimetype": "text/x-python",
   "name": "python",
   "nbconvert_exporter": "python",
   "pygments_lexer": "ipython3",
   "version": "3.9.7"
  }
 },
 "nbformat": 4,
 "nbformat_minor": 5
}
